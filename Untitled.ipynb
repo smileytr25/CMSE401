{
 "cells": [
  {
   "cell_type": "code",
   "execution_count": 44,
   "id": "224fe313-e869-453c-8c9e-ddd3c3ac1bc1",
   "metadata": {},
   "outputs": [],
   "source": [
    "import numpy as np \n",
    "import time\n",
    "import timeit"
   ]
  },
  {
   "cell_type": "code",
   "execution_count": 2,
   "id": "f2d58c59-d779-44ec-82a4-8d407f33dc45",
   "metadata": {},
   "outputs": [],
   "source": [
    "xmin = 0\n",
    "xmax = 10\n",
    "nx = 512 \n",
    "dx = (xmax - xmin) / nx \n",
    "x = np.linspace(xmin, xmax, nx)"
   ]
  },
  {
   "cell_type": "code",
   "execution_count": 3,
   "id": "ded36d3a-c849-4977-9438-1ade48955467",
   "metadata": {},
   "outputs": [],
   "source": [
    "tmin = 0\n",
    "tmax = 10\n",
    "nt = 1000000\n",
    "dt = (tmax - tmin) / nt \n",
    "times = np.linspace(tmin, tmax, nt)"
   ]
  },
  {
   "cell_type": "code",
   "execution_count": 6,
   "id": "bd4bd382-f6fd-4374-807b-03bf08c2225b",
   "metadata": {},
   "outputs": [],
   "source": [
    "y = np.array([np.e**(-(i - 5)**2) for i in x])"
   ]
  },
  {
   "cell_type": "code",
   "execution_count": 11,
   "id": "5b594416-3c5e-4ef8-a623-591ab8735d22",
   "metadata": {},
   "outputs": [],
   "source": [
    "v = np.zeros_like(x)\n",
    "a = np.zeros_like(x)\n",
    "gamma = 1"
   ]
  },
  {
   "cell_type": "code",
   "execution_count": 40,
   "id": "2f9e843d-b71b-415a-a976-684c42987ea5",
   "metadata": {},
   "outputs": [],
   "source": [
    "def wave_simulation(times, x, y, v, a, gamma, dx, dt):\n",
    "    gamma_dx2 = gamma / (dx ** 2)\n",
    "    for t_idx in range(len(times)):\n",
    "            a[1:-1] = (y[2:] + y[0:-2] - 2 * y[1:-1]) * gamma_dx2\n",
    "            y += v * dt\n",
    "            v += a * dt"
   ]
  },
  {
   "cell_type": "code",
   "execution_count": 41,
   "id": "187d25f5-5496-435b-b66f-ba99bb7f1fcd",
   "metadata": {
    "scrolled": true
   },
   "outputs": [],
   "source": [
    "def runtime_analysis(func,args):\n",
    "    start_time = time.time()\n",
    "    func(*args)\n",
    "    end_time = time.time()\n",
    "    print(f\"Time taken: {end_time - start_time} seconds\")"
   ]
  },
  {
   "cell_type": "code",
   "execution_count": 43,
   "id": "058762fc-e060-4a16-ace6-d4140b99c2b6",
   "metadata": {},
   "outputs": [
    {
     "name": "stdout",
     "output_type": "stream",
     "text": [
      "Time taken: 9.289024353027344 seconds\n"
     ]
    }
   ],
   "source": [
    "runtime_analysis(wave_simulation, [times, x, y, v, a, gamma, dx, dt])"
   ]
  },
  {
   "cell_type": "code",
   "execution_count": 46,
   "id": "5cb17270-aad4-4cf2-89ec-67c2542e47e0",
   "metadata": {},
   "outputs": [
    {
     "data": {
      "text/plain": [
       "93.6407034941949"
      ]
     },
     "execution_count": 46,
     "metadata": {},
     "output_type": "execute_result"
    }
   ],
   "source": []
  },
  {
   "cell_type": "code",
   "execution_count": null,
   "id": "0c5e40dd-14c2-48a9-b6cc-e823021c0186",
   "metadata": {},
   "outputs": [],
   "source": []
  }
 ],
 "metadata": {
  "kernelspec": {
   "display_name": "Python 3.11 (default)",
   "language": "python",
   "name": "python3"
  },
  "language_info": {
   "codemirror_mode": {
    "name": "ipython",
    "version": 3
   },
   "file_extension": ".py",
   "mimetype": "text/x-python",
   "name": "python",
   "nbconvert_exporter": "python",
   "pygments_lexer": "ipython3",
   "version": "3.11.11"
  }
 },
 "nbformat": 4,
 "nbformat_minor": 5
}
