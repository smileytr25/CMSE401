{
 "cells": [
  {
   "cell_type": "markdown",
   "metadata": {},
   "source": [
    "In order to successfully complete this assignment you need to participate both individually and in groups during class.   Have one of the instructors check your notebook and sign you out before leaving class. Turn in your assignment using D2L. "
   ]
  },
  {
   "cell_type": "markdown",
   "metadata": {},
   "source": [
    "---\n"
   ]
  },
  {
   "cell_type": "markdown",
   "metadata": {},
   "source": [
    "# ICA 12: Project Proposals\n",
    "\n",
    "<img alt=\"Project ideas\" src=\"https://d2slcw3kip6qmk.cloudfront.net/marketing/blog/2017Q2/project-planning-header@2x.png\">"
   ]
  },
  {
   "cell_type": "markdown",
   "metadata": {},
   "source": [
    "### Agenda for today's class (70 minutes)\n",
    "\n",
    "1. (50 minutes) [Project Sharing](#Project-Sharing)\n",
    "3. (20 minutes) [Brainstorming](#Brainstorming)\n",
    "\n",
    "\n"
   ]
  },
  {
   "cell_type": "markdown",
   "metadata": {},
   "source": [
    "\n",
    "---\n",
    "<a name=Project-Sharing></a>\n",
    "# 1. Project Sharing\n",
    "\n",
    "Today we are going to spend time breaking up into groups and discussing project proposals.  Our goal is to find overlap between student's so you can form groups and help each other out.  \n",
    "\n",
    "\n",
    "&#9989;  **<font color=red>DO THIS</font>**: select a group to join.  Each person in the group should spend about 1-3 minutes talking about each of your projects.  Your goal is to identify similarities between your projects.  Take notes about what you discussed and the names/contact information if you want to connect with someone.\n",
    "\n"
   ]
  },
  {
   "cell_type": "markdown",
   "metadata": {},
   "source": [
    "1 doing real estate optimization calculations using Numba\n",
    "2 for sequencing DNA and then speed up the process using parallelism \n",
    "3 to look at sports betting strategies (Sports)\n",
    "4 ROOT framework in C++ for physics data analysis framework\n",
    "5 Using Dask to streamline preprocessing data for financial analysis\n",
    "6 Parallelizing code used in reinforcement learning for autonomous navigation\n",
    "7 Pytorch for image classification and going to benchmark the training process (eCommerce)\n",
    "8 PCA eigenvalue optimization (python Numba)\n",
    "9 Removing background for pictures of clothes (PyTorch) (OpenMP)"
   ]
  },
  {
   "cell_type": "markdown",
   "metadata": {},
   "source": [
    "---\n",
    "<a name=Brainstorming></a>\n",
    "# 2. Brainstorming\n",
    "\n",
    "The last thing we will do today is summarize the connections we have made between the projects and brainstorm ways students can connect and learn from each other.  You are still expected to do your own project but it is encouraged that you work with each other.  \n",
    "\n",
    "&#9989;  **<font color=red>DO THIS</font>**: Record the names of others in the class that have similar project goals to you along with the themes your projects share.   \n"
   ]
  },
  {
   "cell_type": "markdown",
   "metadata": {},
   "source": [
    "Praneeth also doing a sports domain for insights into sports "
   ]
  },
  {
   "cell_type": "markdown",
   "metadata": {},
   "source": [
    "---\n",
    "<a name=HPC Advertisement></a>\n",
    "# 3. HPC Video\n",
    "\n",
    "If you have time, check out this (somewhat outdated) promotional HPC video discussing important HPC applications. \n",
    "\n",
    "[https://www.youtube.com/watch?v=TGSRvV9u32M](https://www.youtube.com/watch?v=TGSRvV9u32M)\n"
   ]
  },
  {
   "cell_type": "markdown",
   "metadata": {},
   "source": [
    "\n",
    "\n",
    "-----\n",
    "### Congratulations, we're done!\n",
    "\n",
    "Have one of the instructors check your notebook and sign you out before leaving class. Turn in your assignment using D2L."
   ]
  },
  {
   "cell_type": "markdown",
   "metadata": {},
   "source": [
    "Written by Dr. Dirk Colbry, Michigan State University (Updated by Dr. Nathan Haut in Spring 2025)\n",
    "<a rel=\"license\" href=\"http://creativecommons.org/licenses/by-nc/4.0/\"><img alt=\"Creative Commons License\" style=\"border-width:0\" src=\"https://i.creativecommons.org/l/by-nc/4.0/88x31.png\" /></a><br />This work is licensed under a <a rel=\"license\" href=\"http://creativecommons.org/licenses/by-nc/4.0/\">Creative Commons Attribution-NonCommercial 4.0 International License</a>."
   ]
  },
  {
   "cell_type": "markdown",
   "metadata": {},
   "source": [
    "----"
   ]
  }
 ],
 "metadata": {
  "kernelspec": {
   "display_name": "Python 3 (ipykernel)",
   "language": "python",
   "name": "python3"
  },
  "language_info": {
   "codemirror_mode": {
    "name": "ipython",
    "version": 3
   },
   "file_extension": ".py",
   "mimetype": "text/x-python",
   "name": "python",
   "nbconvert_exporter": "python",
   "pygments_lexer": "ipython3",
   "version": "3.12.7"
  }
 },
 "nbformat": 4,
 "nbformat_minor": 4
}
