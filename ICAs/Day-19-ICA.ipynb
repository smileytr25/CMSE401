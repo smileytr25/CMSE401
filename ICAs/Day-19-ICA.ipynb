{
 "cells": [
  {
   "cell_type": "markdown",
   "metadata": {},
   "source": [
    "In order to successfully complete this assignment you need to participate both individually and in groups during class.   Have one of the instructors check your notebook and sign you out before leaving class. Turn in your assignment using D2L. "
   ]
  },
  {
   "cell_type": "markdown",
   "metadata": {},
   "source": [
    "---\n"
   ]
  },
  {
   "cell_type": "markdown",
   "metadata": {},
   "source": [
    "# ICA 19: CUDA\n",
    "\n",
    "<img alt=\"progression of older GPU cards\" src=\"http://www.amax.com/blog/wp-content/uploads/2016/06/NVIDIA-GPU-Card-Comparison.jpg\" width=75%>\n",
    "\n",
    "Image from: https://www.amax.com/blog/?p=907"
   ]
  },
  {
   "cell_type": "markdown",
   "metadata": {},
   "source": [
    "### Agenda for today's class (70 minutes)\n",
    "\n",
    "\n",
    "1. (20 minutes) [Pre class Review](#Pre-class-Review)\n",
    "2. (20 minutes) [BCCD CUDA Example](#BCCD-CUDA-Example)\n",
    "3. (30 minutes) [Vector Add Example](#Vector-Add-Example)\n",
    "\n"
   ]
  },
  {
   "cell_type": "markdown",
   "metadata": {},
   "source": [
    "\n",
    "\n",
    "---\n",
    "<a name=Pre-class-Review></a>\n",
    "# 1. Pre class Review\n",
    "\n",
    "\n",
    "We learned the following in the video:\n",
    "1. You must use a dev node with a CUDA card (Ex. dev-intel14-k20 or dev-intel16-k80).\n",
    "2. You need to install the CUDA software (How do we do that on the HPC?).\n",
    "3. Once you do that, build thee software and run it.\n",
    "\n",
    "Below is the definition for the CUDA_CALL function, which will make it much easier to debug CUDA code. Simply wrap this function around any CUDA function call in your code to get more information about errors if the code encounters a CUDA related error. \n",
    "\n",
    "```c++\n",
    "#define CUDA_CALL(x) {cudaError_t cuda_error__ = (x); if (cuda_error__) printf(\"CUDA error: \" #x \" returned \\\"%s\\\"\\n\", cudaGetErrorString(cuda_error__));}\n",
    "```\n",
    "\n",
    "Steps in a common CUDA program:\n",
    "* STEP 1: ALLOCATE\n",
    "* STEP 2: TRANSFER\n",
    "* STEP 3: SET UP\n",
    "* STEP 4: RUN\n",
    "* STEP 5: TRANSFER"
   ]
  },
  {
   "cell_type": "markdown",
   "metadata": {},
   "source": [
    "\n",
    "---\n",
    "<a name=BCCD-CUDA-Example></a>\n",
    "# 2. BCCD CUDA Example\n",
    "\n",
    "\n",
    "\n",
    "\n",
    "&#9989; **<font color=red>DO THIS:</font>** You may have already explored this example last class, but if not, take a look in the class Git repository, go back to the BCCD directory and compile and run the CUDA example.  Read though the output and discuss it with your group. \n"
   ]
  },
  {
   "cell_type": "markdown",
   "metadata": {},
   "source": [
    "\n",
    "---\n",
    "<a name=Vector-Add-Example></a>\n",
    "# 3. Vector Add Example\n",
    "\n",
    "The following is a vector add example.  "
   ]
  },
  {
   "cell_type": "code",
   "execution_count": null,
   "metadata": {},
   "outputs": [],
   "source": [
    "%%writefile NCode/vecadd.cu\n",
    "\n",
    "//Example modified from: https://gist.github.com/vo/3899348\n",
    "//Timing code from: https://www.pluralsight.com/blog/software-development/how-to-measure-execution-time-intervals-in-c--\n",
    "\n",
    "#include <iostream>\n",
    "#include <cuda.h>\n",
    "#include <chrono>\n",
    "\n",
    "__global__ void vecAdd(int *a_d,int *b_d,int *c_d,int N)\n",
    "{\n",
    "   int i = blockDim.x * blockIdx.x + threadIdx.x;\n",
    "   if (i < N)\n",
    "       c_d[i] = a_d[i] + b_d[i]; \n",
    "}\n",
    "\n",
    "void vecAdd_h(int *A1,int *B1, int *C1, int N)\n",
    "{\n",
    "   for(int i=0;i<N;i++)\n",
    "      C1[i] = A1[i] + B1[i];\n",
    "}\n",
    "\n",
    "int main(int argc,char **argv)\n",
    "{\n",
    "   int n=10000000;\n",
    "   int nBytes = n*sizeof(int);\n",
    "   int *a,*b,*c,*c2;\n",
    "   int *a_d,*b_d,*c_d;\n",
    "\n",
    "   int num_threads = 1024;\n",
    "   int num_blocks = n/num_threads+1;\n",
    "   dim3 numThreads(num_threads,1,1);\n",
    "   dim3 numBlocks(num_blocks,1,1); \n",
    "    \n",
    "   //Check device\n",
    "   struct cudaDeviceProp properties;\n",
    "   cudaGetDeviceProperties(&properties, 0);\n",
    "   printf(\"using %d multiprocessors\\n\",properties.multiProcessorCount);\n",
    "   printf(\"max threads per processor: %d \\n\\n\",properties.maxThreadsPerMultiProcessor);\n",
    "    \n",
    "    \n",
    "   printf(\"nBytes=%d num_threads=%d, num_blocks=%d\\n\",nBytes,num_threads,num_blocks);\n",
    "\n",
    "   if (!(a = (int*) malloc(nBytes))) {\n",
    "        fprintf(stderr, \"malloc() FAILED (thread)\\n\");\n",
    "        exit(0);\n",
    "    }\n",
    "\n",
    "   if (!(b = (int*) malloc(nBytes))) {\n",
    "        fprintf(stderr, \"malloc() FAILED (thread)\\n\");\n",
    "        exit(0);\n",
    "    }\n",
    "\n",
    "   if (!(c = (int*) malloc(nBytes))) {\n",
    "        fprintf(stderr, \"malloc() FAILED (thread)\\n\");\n",
    "        exit(0);\n",
    "    }\n",
    "\n",
    "   if (!(c2 = (int*) malloc(nBytes))) {\n",
    "        fprintf(stderr, \"malloc() FAILED (thread)\\n\");\n",
    "        exit(0);\n",
    "    }\n",
    "    \n",
    "   for(int i=0;i<n;i++)\n",
    "      a[i]=i,b[i]=i;\n",
    "    \n",
    "   printf(\"Allocating device memory on host..\\n\");\n",
    "   cudaMalloc((void **)&a_d,nBytes);\n",
    "   cudaMalloc((void **)&b_d,nBytes);\n",
    "   cudaMalloc((void **)&c_d,nBytes);\n",
    "    \n",
    "   auto start_d = std::chrono::high_resolution_clock::now();\n",
    "\n",
    "   printf(\"Copying to device..\\n\");\n",
    "   cudaMemcpy(a_d,a,nBytes,cudaMemcpyHostToDevice);\n",
    "   cudaMemcpy(b_d,b,nBytes,cudaMemcpyHostToDevice);\n",
    "   \n",
    "   printf(\"Doing GPU Vector add\\n\");\n",
    "   vecAdd<<<numBlocks, numThreads>>>(a_d,b_d,c_d,n);\n",
    "   cudaError_t err = cudaGetLastError();\n",
    "   if (err != cudaSuccess) {\n",
    "        fprintf(stderr, \"\\n\\nError: %s\\n\\n\", cudaGetErrorString(err)); fflush(stderr); exit(err);   \n",
    "   }\n",
    "    \n",
    "   printf(\"Copying results to host..\\n\");   \n",
    "   cudaMemcpy(c,c_d,nBytes,cudaMemcpyDeviceToHost);\n",
    "   \n",
    "   auto end_d = std::chrono::high_resolution_clock::now();\n",
    "   \n",
    "   auto start_h = std::chrono::high_resolution_clock::now();\n",
    "   printf(\"Doing CPU Vector add\\n\");\n",
    "   vecAdd_h(a,b,c2,n);\n",
    "   auto end_h = std::chrono::high_resolution_clock::now();\n",
    "    \n",
    "   //Test results\n",
    "   int error = 0;\n",
    "   for(int i=0;i<n;i++) {\n",
    "      error += abs(c[i]-c2[i]);\n",
    "      if (error)\n",
    "          printf(\"%i, %d, %d\\n\", i, c[i], c2[i]);\n",
    "   }\n",
    "\n",
    "   //Print Timing\n",
    "   std::chrono::duration<double> time_d = end_d - start_d;\n",
    "   std::chrono::duration<double> time_h = end_h - start_h;\n",
    "   printf(\"vectorsize=%d\\n\",n);\n",
    "   printf(\"difference_error=%d\\n\",error);\n",
    "   printf(\"Device time: %f s\\n \", time_d.count());\n",
    "   printf(\"Host time: %f s\\n\", time_h.count()); \n",
    "    \n",
    "   cudaFree(a_d);\n",
    "   cudaFree(b_d);\n",
    "   cudaFree(c_d);\n",
    "   return 0;\n",
    "}"
   ]
  },
  {
   "cell_type": "code",
   "execution_count": null,
   "metadata": {},
   "outputs": [],
   "source": [
    "#Compile Cuda\n",
    "!nvcc -std=c++11 -o vecadd NCode/vecadd.cu"
   ]
  },
  {
   "cell_type": "code",
   "execution_count": null,
   "metadata": {},
   "outputs": [],
   "source": [
    "#Run Example\n",
    "!./vecadd"
   ]
  },
  {
   "cell_type": "markdown",
   "metadata": {},
   "source": [
    "&#9989; **<font color=red>DO THIS:</font>** Copy and paste the above code to the HPCC and get it to compile and run.\n",
    "\n",
    "&#9989; **<font color=red>DO THIS:</font>** Analyse the code and see if you can figure out what it is doing.  Where are the key steps? \n",
    "\n",
    "&#9989; **<font color=red>DO THIS:</font>** Think about why this code does not do a fair timing comparison between the CPU and the GPU.  Make modifications to make it a more fair comparison.\n",
    "\n",
    "&#9989; **<font color=red>DO THIS:</font>** As in the pre-class video, the exit codes for the CUDA program are not being checked.  Add the CUDA_CALL command to your program. "
   ]
  },
  {
   "cell_type": "markdown",
   "metadata": {},
   "source": [
    "-----\n",
    "### Congratulations, we're done!\n",
    "\n",
    "Have one of the instructors check your notebook and sign you out before leaving class. Turn in your assignment using D2L."
   ]
  },
  {
   "cell_type": "markdown",
   "metadata": {},
   "source": [
    "Written by Dr. Dirk Colbry, Michigan State University (Updated by Dr. Nathan Haut in Spring 2025)\n",
    "<a rel=\"license\" href=\"http://creativecommons.org/licenses/by-nc/4.0/\"><img alt=\"Creative Commons License\" style=\"border-width:0\" src=\"https://i.creativecommons.org/l/by-nc/4.0/88x31.png\" /></a><br />This work is licensed under a <a rel=\"license\" href=\"http://creativecommons.org/licenses/by-nc/4.0/\">Creative Commons Attribution-NonCommercial 4.0 International License</a>."
   ]
  },
  {
   "cell_type": "markdown",
   "metadata": {},
   "source": [
    "----"
   ]
  }
 ],
 "metadata": {
  "kernelspec": {
   "display_name": "Python 3 (ipykernel)",
   "language": "python",
   "name": "python3"
  },
  "language_info": {
   "codemirror_mode": {
    "name": "ipython",
    "version": 3
   },
   "file_extension": ".py",
   "mimetype": "text/x-python",
   "name": "python",
   "nbconvert_exporter": "python",
   "pygments_lexer": "ipython3",
   "version": "3.12.7"
  }
 },
 "nbformat": 4,
 "nbformat_minor": 4
}
