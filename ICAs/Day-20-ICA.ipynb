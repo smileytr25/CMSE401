{
 "cells": [
  {
   "cell_type": "markdown",
   "metadata": {},
   "source": [
    "In order to successfully complete this assignment you need to participate both individually and in groups during class.   Have one of the instructors check your notebook and sign you out before leaving class. Turn in your assignment using D2L. "
   ]
  },
  {
   "cell_type": "markdown",
   "metadata": {},
   "source": [
    "---\n"
   ]
  },
  {
   "cell_type": "markdown",
   "metadata": {},
   "source": [
    "# ICA 20: CUDA Blocks/Grids/Threads\n",
    "\n",
    "<img alt=\"image of a greek phalax of fighters. Designed to represent the marching forward of a CUDA WARP\" src=\"https://upload.wikimedia.org/wikipedia/commons/e/ed/Greek_Phalanx.jpg\">\n",
    "\n",
    "\n",
    "Image from: https://en.wikipedia.org/wiki/Phalanx\n",
    "    \n"
   ]
  },
  {
   "cell_type": "markdown",
   "metadata": {},
   "source": [
    "### Agenda for today's class (70 minutes)\n",
    "\n",
    "1. (20 minutes) [Pre class Review](#Pre-class-Review)\n",
    "2. (50 minutes) [1D Wave Example](#Start-1D-Wave-Example)\n"
   ]
  },
  {
   "cell_type": "markdown",
   "metadata": {},
   "source": [
    "\n",
    "---\n",
    "<a name=Pre-class-Review></a>\n",
    "# 1. Pre-class Review\n",
    "\n",
    "&#9989; **<font color=red>DO THIS:</font>** Discuss with your group the process for indexing a 2D array as was discussed in the PCA. \n",
    "\n",
    "\n",
    "\n",
    "<img alt=\"Visual representation of how a grid is made up of blocks which is then made of of a warp\" src=\"https://www.researchgate.net/profile/Nandakishore_Santhi/publication/285235201/figure/fig2/AS:352267598352385@1460998548443/Example-of-a-CUDA-grid-The-grid-is-composed-of-blocks-each-block-is-composed-of-warps.png\" width=50%>"
   ]
  },
  {
   "cell_type": "markdown",
   "metadata": {},
   "source": [
    "\n",
    "\n",
    "---\n",
    "<a name=Start-1D-Wave-Example></a>\n",
    "# 2. 1D Wave Example\n",
    "\n",
    "See if you can adapt the 1D wave code to work using CUDA. Benchmark both the CPU and GPU versions and see if you can get a speedup. \n",
    "\n",
    "\n",
    "```c++\n",
    "#include <stdio.h>\n",
    "#include <stdlib.h>\n",
    "#include <math.h>\n",
    "\n",
    "int main(int argc, char ** argv) {\n",
    "    int nx = 500;\n",
    "    int nt = 100000;\n",
    "    int i,it;\n",
    "    double x[nx];\n",
    "    double y[nx];\n",
    "    double v[nx];\n",
    "    double dvdt[nx];\n",
    "    double dt;\n",
    "    double dx;\n",
    "    double max,min;\n",
    "    double dx2inv;\n",
    "    double tmax;\n",
    "    int nxm1;\n",
    "\n",
    "    max=10.0;\n",
    "    min=0.0;\n",
    "    dx = (max-min)/(double)(nx);\n",
    "    x[0] = min;\n",
    "    for(i=1;i<nx-1;i++) {\n",
    "        x[i] = min+(double)i*dx;\n",
    "    }\n",
    "    x[nx-1] = max;\n",
    "    tmax=10.0;\n",
    "    dt= (tmax-0.0)/(double)(nt);\n",
    "\n",
    "    for (i=0;i<nx;i++)  {\n",
    "        y[i] = exp(-(x[i]-5.0)*(x[i]-5.0));\n",
    "        v[i] = 0.0;\n",
    "        dvdt[i] = 0.0;\n",
    "    }\n",
    "    \n",
    "    dx2inv=1.0/(dx*dx);\n",
    "    nxm1=nx-1;\n",
    "    for(it=0;it<nt-1;it++) {\n",
    "        for(i=1;i<nxm1;i++)\n",
    "            dvdt[i]=(y[i+1]+y[i-1]-2.0*y[i])*(dx2inv);\n",
    "\n",
    "        for(i=1; i<nxm1; i++)  {\n",
    "            v[i] = v[i] + dt*dvdt[i];\n",
    "            y[i] = y[i] + dt*v[i];\n",
    "        }\n",
    "\n",
    "    }\n",
    "\n",
    "    for(i=nx/2-10; i<nx/2+10; i++) {\n",
    "        printf(\"%g %g\\n\",x[i],y[i]);\n",
    "    }\n",
    "\n",
    "    return 0;\n",
    "}\n",
    "\n",
    "```"
   ]
  },
  {
   "cell_type": "markdown",
   "metadata": {},
   "source": [
    "```c\n",
    "#include <stdio.h>\n",
    "#include <stdlib.h>\n",
    "#include <math.h>\n",
    "#include <cuda_runtime.h>\n",
    "\n",
    "#define NX 500\n",
    "#define NT 100000\n",
    "\n",
    "__global__ void compute_dvdt(double *y, double *dvdt, double dx2inv, int nxm1) {\n",
    "    int i = blockIdx.x * blockDim.x + threadIdx.x + 1;\n",
    "    if (i < nxm1) {\n",
    "        dvdt[i] = (y[i+1] + y[i-1] - 2.0 * y[i]) * dx2inv;\n",
    "    }\n",
    "}\n",
    "\n",
    "__global__ void update_values(double *y, double *v, double *dvdt, double dt, int nxm1) {\n",
    "    int i = blockIdx.x * blockDim.x + threadIdx.x + 1;\n",
    "    if (i < nxm1) {\n",
    "        v[i] += dt * dvdt[i];\n",
    "        y[i] += dt * v[i];\n",
    "    }\n",
    "}\n",
    "\n",
    "void initialize_arrays(double *x, double *y, double *v, double *dvdt, double min, double dx) {\n",
    "    for (int i = 0; i < NX; i++) {\n",
    "        x[i] = min + i * dx;\n",
    "        y[i] = exp(-(x[i] - 5.0) * (x[i] - 5.0));\n",
    "        v[i] = 0.0;\n",
    "        dvdt[i] = 0.0;\n",
    "    }\n",
    "}\n",
    "\n",
    "int main() {\n",
    "    double *x, *y, *v, *dvdt;\n",
    "    double *d_y, *d_v, *d_dvdt;\n",
    "    double dt, dx, dx2inv;\n",
    "    double max = 10.0, min = 0.0;\n",
    "    int nxm1 = NX - 1;\n",
    "    \n",
    "    // Allocate host memory\n",
    "    x = (double*)malloc(NX * sizeof(double));\n",
    "    y = (double*)malloc(NX * sizeof(double));\n",
    "    v = (double*)malloc(NX * sizeof(double));\n",
    "    dvdt = (double*)malloc(NX * sizeof(double));\n",
    "\n",
    "    // Grid spacing\n",
    "    dx = (max - min) / (double)(NX);\n",
    "    dx2inv = 1.0 / (dx * dx);\n",
    "    dt = 10.0 / (double)(NT);\n",
    "\n",
    "    // Initialize arrays\n",
    "    initialize_arrays(x, y, v, dvdt, min, dx);\n",
    "\n",
    "    // Allocate device memory\n",
    "    cudaMalloc((void**)&d_y, NX * sizeof(double));\n",
    "    cudaMalloc((void**)&d_v, NX * sizeof(double));\n",
    "    cudaMalloc((void**)&d_dvdt, NX * sizeof(double));\n",
    "\n",
    "    // Copy data to device\n",
    "    cudaMemcpy(d_y, y, NX * sizeof(double), cudaMemcpyHostToDevice);\n",
    "    cudaMemcpy(d_v, v, NX * sizeof(double), cudaMemcpyHostToDevice);\n",
    "\n",
    "    // Define CUDA kernel launch configuration\n",
    "    int threadsPerBlock = 256;\n",
    "    int blocksPerGrid = (NX + threadsPerBlock - 1) / threadsPerBlock;\n",
    "\n",
    "    // Time stepping loop\n",
    "    for (int it = 0; it < NT - 1; it++) {\n",
    "        compute_dvdt<<<blocksPerGrid, threadsPerBlock>>>(d_y, d_dvdt, dx2inv, nxm1);\n",
    "        update_values<<<blocksPerGrid, threadsPerBlock>>>(d_y, d_v, d_dvdt, dt, nxm1);\n",
    "        cudaDeviceSynchronize();\n",
    "    }\n",
    "\n",
    "    // Copy results back to host\n",
    "    cudaMemcpy(y, d_y, NX * sizeof(double), cudaMemcpyDeviceToHost);\n",
    "\n",
    "    // Free memory\n",
    "    free(x); free(y); free(v); free(dvdt);\n",
    "    cudaFree(d_y); cudaFree(d_v); cudaFree(d_dvdt);\n",
    "\n",
    "    return 0;\n",
    "}\n",
    "```\n",
    "Serial: .345s \n",
    "CUDA: .052s "
   ]
  },
  {
   "cell_type": "markdown",
   "metadata": {},
   "source": [
    "\n",
    "-----\n",
    "### Congratulations, we're done!\n",
    "\n",
    "Have one of the instructors check your notebook and sign you out before leaving class. Turn in your assignment using D2L."
   ]
  },
  {
   "cell_type": "markdown",
   "metadata": {},
   "source": [
    "Written by Dr. Dirk Colbry, Michigan State University (Updated by Dr. Nathan Haut in Spring 2025)\n",
    "<a rel=\"license\" href=\"http://creativecommons.org/licenses/by-nc/4.0/\"><img alt=\"Creative Commons License\" style=\"border-width:0\" src=\"https://i.creativecommons.org/l/by-nc/4.0/88x31.png\" /></a><br />This work is licensed under a <a rel=\"license\" href=\"http://creativecommons.org/licenses/by-nc/4.0/\">Creative Commons Attribution-NonCommercial 4.0 International License</a>."
   ]
  },
  {
   "cell_type": "markdown",
   "metadata": {},
   "source": [
    "----"
   ]
  }
 ],
 "metadata": {
  "kernelspec": {
   "display_name": "Python 3 (ipykernel)",
   "language": "python",
   "name": "python3"
  },
  "language_info": {
   "codemirror_mode": {
    "name": "ipython",
    "version": 3
   },
   "file_extension": ".py",
   "mimetype": "text/x-python",
   "name": "python",
   "nbconvert_exporter": "python",
   "pygments_lexer": "ipython3",
   "version": "3.12.7"
  }
 },
 "nbformat": 4,
 "nbformat_minor": 4
}
