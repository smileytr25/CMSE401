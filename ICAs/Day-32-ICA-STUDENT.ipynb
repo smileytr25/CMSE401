{
 "cells": [
  {
   "cell_type": "markdown",
   "metadata": {},
   "source": [
    "In order to successfully complete this assignment you need to participate both individually and in groups during class.  Have one of the instructors check your notebook and sign you out before leaving class. Turn in your assignment using D2L. "
   ]
  },
  {
   "cell_type": "markdown",
   "metadata": {},
   "source": [
    "---"
   ]
  },
  {
   "cell_type": "markdown",
   "metadata": {},
   "source": [
    "# ICA 32: MPI Reduce Example\n",
    "\n",
    "<img src=\"https://upload.wikimedia.org/wikipedia/commons/2/2a/Pi-unrolled-720.gif\">\n",
    "<p style=\"text-align: right;\">Animation from: [Wikipedia](https://en.wikipedia.org/wiki/File:Pi-unrolled-720.gif)</p>"
   ]
  },
  {
   "cell_type": "markdown",
   "metadata": {},
   "source": [
    "### Agenda for today's class (70 minutes)\n",
    "\n",
    "</p>\n",
    "\n",
    "2. (10 minutes) Pre-class Review \n",
    "1. (60 minutes) Pi Monte Carlo"
   ]
  },
  {
   "cell_type": "markdown",
   "metadata": {},
   "source": [
    "---\n",
    "# 1. Pre-class Review \n"
   ]
  },
  {
   "cell_type": "markdown",
   "metadata": {},
   "source": [
    "**QUESTION:** From a parallel point of view. What are some fundamental differences between the pi estimation programs we have looked at this semester?  How do these differences influence which parallel library we can use?\n",
    "\n",
    "Based on if we are doing Monte Carlo simulations or integration estimation to approximate pi we can use different parallel libraries. Although CUDA works for both, MPI is better for the Monte Carlo simulatons and OpenMP is better for integration estimation"
   ]
  },
  {
   "cell_type": "markdown",
   "metadata": {},
   "source": [
    "---\n",
    "\n",
    "# 2. Pi Monte Carlo\n",
    "\n",
    "\n",
    "Compare your notes/solutions from the pre-class and rewrite the following program as an MPI program.  **NOTE:** There are probablly hundreds of MPI solutions on-line for this problem. Lets avoid looking at the answers and see if we came come up with a resonable solution on our own.\n",
    "\n",
    "&#9989; **<font color=red>DO THIS:</font>** Step 1: Write and test a makefile and submission script.\n",
    "\n",
    "&#9989; **<font color=red>DO THIS:</font>** Step 2: Initialize and finalize MPI.\n",
    "\n",
    "&#9989; **<font color=red>DO THIS:</font>** Step 3: Separate the Master (Rank 0) with the workers.\n",
    "\n",
    "&#9989; **<font color=red>DO THIS:</font>** Step 4: Benchmark the results.\n",
    "\n",
    "\n",
    "```c++\n",
    "\n",
    "#include <stdlib.h>\n",
    "#include <stdio.h>\n",
    "#include <mpi.h>\n",
    "\n",
    "#define sqr(x) ((x)*(x))\n",
    "long random(void);\n",
    "\n",
    "double dboard(int darts) {\n",
    "    double x_coord, y_coord, pi, r;\n",
    "    int score = 0;\n",
    "    long rd;\n",
    "    unsigned long cconst = RAND_MAX;\n",
    "\n",
    "    for (int n = 0; n < darts; n++) {\n",
    "        rd = random();\n",
    "        r = (double)rd / cconst;\n",
    "        x_coord = (2.0 * r) - 1.0;\n",
    "        r = (double)random() / cconst;\n",
    "        y_coord = (2.0 * r) - 1.0;\n",
    "\n",
    "        if ((sqr(x_coord) + sqr(y_coord)) <= 1.0)\n",
    "            score++;\n",
    "    }\n",
    "\n",
    "    pi = 4.0 * (double)score / (double)darts;\n",
    "    return pi;\n",
    "}\n",
    "\n",
    "int main(int argc, char **argv) {\n",
    "    int rank, size;\n",
    "    int totalDarts = 1000000;\n",
    "    int dartsPerProc;\n",
    "    double localPi, globalPi;\n",
    "\n",
    "    MPI_Init(&argc, &argv);\n",
    "    MPI_Comm_rank(MPI_COMM_WORLD, &rank);\n",
    "    MPI_Comm_size(MPI_COMM_WORLD, &size);\n",
    "\n",
    "    dartsPerProc = totalDarts / size;\n",
    "\n",
    "    /* Seed each process differently */\n",
    "    srandom(rank * 123456 + time(NULL));\n",
    "\n",
    "    localPi = dboard(dartsPerProc);\n",
    "\n",
    "    /* Reduce (average) all partial estimates */\n",
    "    MPI_Reduce(&localPi, &globalPi, 1, MPI_DOUBLE, MPI_SUM, 0, MPI_COMM_WORLD);\n",
    "\n",
    "    if (rank == 0) {\n",
    "        globalPi /= size;\n",
    "        printf(\"Estimated PI = %.16f\\n\", globalPi);\n",
    "    }\n",
    "\n",
    "    MPI_Finalize();\n",
    "    return 0;\n",
    "}\n",
    " ```"
   ]
  },
  {
   "cell_type": "markdown",
   "metadata": {},
   "source": [
    "-----\n",
    "### Congratulations, we're done!\n",
    "\n",
    "Have one of the instructors check your notebook and sign you out before leaving class. Turn in your assignment using D2L."
   ]
  },
  {
   "cell_type": "markdown",
   "metadata": {},
   "source": [
    "Written by Dr. Dirk Colbry, Michigan State University (Updated by Dr. Nathan Haut in Spring 2025)\n",
    "<a rel=\"license\" href=\"http://creativecommons.org/licenses/by-nc/4.0/\"><img alt=\"Creative Commons License\" style=\"border-width:0\" src=\"https://i.creativecommons.org/l/by-nc/4.0/88x31.png\" /></a><br />This work is licensed under a <a rel=\"license\" href=\"http://creativecommons.org/licenses/by-nc/4.0/\">Creative Commons Attribution-NonCommercial 4.0 International License</a>."
   ]
  },
  {
   "cell_type": "markdown",
   "metadata": {},
   "source": [
    "----"
   ]
  }
 ],
 "metadata": {
  "kernelspec": {
   "display_name": "Python 3 (ipykernel)",
   "language": "python",
   "name": "python3"
  },
  "language_info": {
   "codemirror_mode": {
    "name": "ipython",
    "version": 3
   },
   "file_extension": ".py",
   "mimetype": "text/x-python",
   "name": "python",
   "nbconvert_exporter": "python",
   "pygments_lexer": "ipython3",
   "version": "3.12.7"
  }
 },
 "nbformat": 4,
 "nbformat_minor": 4
}
