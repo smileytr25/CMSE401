{
 "cells": [
  {
   "cell_type": "markdown",
   "metadata": {},
   "source": [
    "In order to successfully complete this assignment you need to participate both individually and in groups during class.   Have one of the instructors check your notebook and sign you out before leaving class. Turn in your assignment using D2L. "
   ]
  },
  {
   "cell_type": "markdown",
   "metadata": {},
   "source": [
    "---\n"
   ]
  },
  {
   "cell_type": "markdown",
   "metadata": {},
   "source": [
    "# ICA 28: MPI Programming Basics\n",
    "\n",
    "\n",
    "\n",
    "<img src=\"https://farm6.staticflickr.com/5182/5766506970_64806a7180_b.jpg\" width=\"90%\" alt=\"Picture of two children wispering to each other. Included as a motivation for the Rumor Mill example\" >\n"
   ]
  },
  {
   "cell_type": "markdown",
   "metadata": {},
   "source": [
    "### Agenda for today's class (70 minutes)\n",
    "\n",
    "1. (20 minutes) [Pre class Review](#Pre-class-Review)\n",
    "2. (30 minutes) [Pi Estimation](#Pi-Estimation)\n",
    "3. (20 minutes) [Rumor Mill continued](#Rumor-Mill-continued)\n",
    "\n"
   ]
  },
  {
   "cell_type": "markdown",
   "metadata": {},
   "source": [
    "\n",
    "\n",
    "---\n",
    "<a name=Pre-class-Review></a>\n",
    "# 1. Pre class Review\n",
    "\n",
    "\n",
    "\n",
    "&#9989; **<font color=red>DO THIS:</font>** Discuss the difference between blocking and non-blocking communication. Then discuss scenarios when you would want to use one over the other. Record a summary of your discussion. \n",
    "\n",
    "Blocking communication pauses program execution until the send or receive operation completes, ensuring synchronization. Non-blocking communication lets the program continue without waiting, enabling better performance and concurrency. Use blocking when order and data integrity are critical; use non-blocking for efficiency in parallel or real-time systems."
   ]
  },
  {
   "cell_type": "markdown",
   "metadata": {},
   "source": [
    "\n",
    "---\n",
    "<a name=Pi-Estimation></a>\n",
    "# 2. Pi Estimation\n",
    "\n",
    "\n",
    "\n",
    "\n",
    "\n",
    "Lets go back and consider the pi estimation algorithm we used previously:\n",
    "\n",
    "```c++\n",
    "#include <omp.h>\n",
    "static long num_steps = 100000; double step;\n",
    "#define NUM_THREADS 2\n",
    "void main ()\n",
    "{ \n",
    "     int i, nthreads; double pi, sum[NUM_THREADS];\n",
    "     step = 1.0/(double) num_steps;\n",
    "     omp_set_num_threads(NUM_THREADS);\n",
    "     #pragma omp parallel\n",
    "     {\n",
    "         int i, id,nthrds;\n",
    "         double x;\n",
    "         id = omp_get_thread_num();\n",
    "         nthrds = omp_get_num_threads();\n",
    "         if (id == 0) nthreads = nthrds;\n",
    "         for (i=id, sum[id]=0.0;i< num_steps; i=i+nthrds) {\n",
    "             x = (i+0.5)*step;\n",
    "             sum[id] += 4.0/(1.0+x*x);\n",
    "         }\n",
    "     }\n",
    "     for(i=0, pi=0.0;i<nthreads;i++)pi += sum[i] * step;\n",
    "}\n",
    "```\n",
    "\n",
    "&#9989; **<font color=red>DO THIS:</font>** Discuss the potential cons for moving this example to a Shared Network system.\n",
    "\n",
    "For small tasks like numerical integration, the communication cost in MPI (e.g., sending partial sums) can outweigh the performance benefits of parallelization.\n",
    "\n",
    "&#9989; **<font color=red>DO THIS:</font>** Take the above example and turn it into an MPI Only program.\n",
    "\n",
    "```c\n",
    "#include <stdio.h>\n",
    "#include <stdlib.h>\n",
    "#include <mpi.h>\n",
    "\n",
    "static long num_steps = 100000;\n",
    "double step;\n",
    "\n",
    "int main(int argc, char *argv[])\n",
    "{\n",
    "    int i, id, num_procs;\n",
    "    double x, pi, local_sum = 0.0, global_sum = 0.0;\n",
    "\n",
    "    step = 1.0 / (double) num_steps;\n",
    "\n",
    "    MPI_Init(&argc, &argv);\n",
    "    MPI_Comm_rank(MPI_COMM_WORLD, &id);       // get this process's ID\n",
    "    MPI_Comm_size(MPI_COMM_WORLD, &num_procs); // get total number of processes\n",
    "\n",
    "    // Each process computes its partial sum\n",
    "    for (i = id; i < num_steps; i += num_procs) {\n",
    "        x = (i + 0.5) * step;\n",
    "        local_sum += 4.0 / (1.0 + x * x);\n",
    "    }\n",
    "\n",
    "    // Reduce all partial sums into the global sum on process 0\n",
    "    MPI_Reduce(&local_sum, &global_sum, 1, MPI_DOUBLE, MPI_SUM, 0, MPI_COMM_WORLD);\n",
    "\n",
    "    if (id == 0) {\n",
    "        pi = global_sum * step;\n",
    "        printf(\"Computed PI = %.15f\\n\", pi);\n",
    "    }\n",
    "\n",
    "    MPI_Finalize();\n",
    "    return 0;\n",
    "}\n",
    "```"
   ]
  },
  {
   "cell_type": "markdown",
   "metadata": {},
   "source": [
    "\n",
    "---\n",
    "<a name=Rumor-Mill-continued></a>\n",
    "# 3. Rumor Mill continued\n",
    "\n",
    "For the last few minutes of class revisit the rumor mill example and see if you can start making modifications to run the example inside mpi. "
   ]
  },
  {
   "cell_type": "markdown",
   "metadata": {},
   "source": [
    "\n",
    "-----\n",
    "### Congratulations, we're done!\n",
    "\n",
    "Have one of the instructors check your notebook and sign you out before leaving class. Turn in your assignment using D2L."
   ]
  },
  {
   "cell_type": "markdown",
   "metadata": {},
   "source": [
    "Written by Dr. Dirk Colbry, Michigan State University (Updated by Dr. Nathan Haut in Spring 2025)\n",
    "<a rel=\"license\" href=\"http://creativecommons.org/licenses/by-nc/4.0/\"><img alt=\"Creative Commons License\" style=\"border-width:0\" src=\"https://i.creativecommons.org/l/by-nc/4.0/88x31.png\" /></a><br />This work is licensed under a <a rel=\"license\" href=\"http://creativecommons.org/licenses/by-nc/4.0/\">Creative Commons Attribution-NonCommercial 4.0 International License</a>."
   ]
  },
  {
   "cell_type": "markdown",
   "metadata": {},
   "source": [
    "----"
   ]
  }
 ],
 "metadata": {
  "kernelspec": {
   "display_name": "Python 3 (ipykernel)",
   "language": "python",
   "name": "python3"
  },
  "language_info": {
   "codemirror_mode": {
    "name": "ipython",
    "version": 3
   },
   "file_extension": ".py",
   "mimetype": "text/x-python",
   "name": "python",
   "nbconvert_exporter": "python",
   "pygments_lexer": "ipython3",
   "version": "3.12.7"
  }
 },
 "nbformat": 4,
 "nbformat_minor": 4
}
