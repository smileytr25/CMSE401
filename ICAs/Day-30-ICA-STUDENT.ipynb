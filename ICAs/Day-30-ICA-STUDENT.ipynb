{
 "cells": [
  {
   "cell_type": "markdown",
   "metadata": {},
   "source": [
    "In order to successfully complete this assignment you need to participate both individually and in groups during class.   Have one of the instructors check your notebook and sign you out before leaving class. Turn in your assignment using D2L no later than **11:59pm**. "
   ]
  },
  {
   "cell_type": "markdown",
   "metadata": {},
   "source": [
    "---\n"
   ]
  },
  {
   "cell_type": "markdown",
   "metadata": {},
   "source": [
    "# In-Class Assignment: MPI Errors\n",
    "\n",
    "<img src=\"https://cdn.pixabay.com/photo/2016/10/04/13/52/fail-1714367_960_720.jpg\" width=30%>\n",
    "<p style=\"text-align: right;\">Animation from: [Pixabay](https://pixabay.com/)</p>"
   ]
  },
  {
   "cell_type": "markdown",
   "metadata": {},
   "source": [
    "### Agenda for today's class (70 minutes)\n",
    "\n",
    "</p>\n",
    "\n",
    "1. (10 minutes) Pre-class Review \n",
    "2. (30 minutes) MPI Error Example\n",
    "3. (20 minutes) Rumor Mill\n",
    "4. (10 minutes) Quiz Prep"
   ]
  },
  {
   "cell_type": "markdown",
   "metadata": {},
   "source": [
    "---\n",
    "# 1. Pre-class Review \n",
    "\n",
    "&#9989; **<font color=red>DO THIS:</font>** Discuss the references you found for error handling in MPI with your group. Below, summarize your findings for handling errors in MPI.  \n",
    "\n",
    "By default, MPI uses MPI_ERRORS_ARE_FATAL, which causes the whole program to terminate when an error occurs. To prevent this, you can switch to MPI_ERRORS_RETURN, which lets functions return error codes instead of aborting.\n",
    "\n",
    "You can check these codes using MPI_Error_string to get readable messages. For more control, you can create custom error handlers with MPI_Comm_create_errhandler and attach them using MPI_Comm_set_errhandler.\n",
    "\n",
    "Error handling can also be customized for files, windows, and info objects. Overall, it’s best to check return values and handle errors gracefully to avoid crashes and make debugging easier."
   ]
  },
  {
   "cell_type": "markdown",
   "metadata": {},
   "source": [
    "---\n",
    "\n",
    "# 2. MPI Error Example\n",
    "\n",
    "As a class, lets look at our code from Friday and add Error Checking. \n",
    "\n",
    "\n",
    "How do we check if error handling is working?"
   ]
  },
  {
   "cell_type": "markdown",
   "metadata": {},
   "source": [
    "```c\n",
    "#include <mpi.h>\n",
    "#include <stdio.h>\n",
    "\n",
    "static long num_steps = 100000;\n",
    "double step;\n",
    "\n",
    "int main(int argc, char** argv)\n",
    "{ \n",
    "    int i, nthreads;\n",
    "    double pi, sum;\n",
    "    step = 1.0 / (double) num_steps;\n",
    "    int rank, size, err;\n",
    "    MPI_Status status;\n",
    "\n",
    "    /? Initialize MPI\n",
    "    MPI_Init(&argc, &argv);\n",
    "    \n",
    "    // Set custom error handler to return errors instead of aborting\n",
    "    MPI_Errhandler_set(MPI_COMM_WORLD, MPI_ERRORS_RETURN);  // Simple, portable\n",
    "\n",
    "    // Get rank and size\n",
    "    err = MPI_Comm_rank(MPI_COMM_WORLD, &rank);\n",
    "    if (err != MPI_SUCCESS) {\n",
    "        char errString[MPI_MAX_ERROR_STRING];\n",
    "        int len;\n",
    "        MPI_Error_string(err, errString, &len);\n",
    "        printf(\"MPI_Comm_rank error: %s\\n\", errString);\n",
    "    }\n",
    "\n",
    "    err = MPI_Comm_size(MPI_COMM_WORLD, &size);\n",
    "    if (err != MPI_SUCCESS) {\n",
    "        char errString[MPI_MAX_ERROR_STRING];\n",
    "        int len;\n",
    "        MPI_Error_string(err, errString, &len);\n",
    "        printf(\"MPI_Comm_size error: %s\\n\", errString);\n",
    "    }\n",
    "\n",
    "    // Pi calculation\n",
    "    {\n",
    "        int id, nthrds;\n",
    "        double x;\n",
    "        id = rank;\n",
    "        nthrds = size;\n",
    "        nthreads = nthrds;\n",
    "\n",
    "        for (i = id, sum = 0.0; i < num_steps; i += nthrds) {\n",
    "            x = (i + 0.5) * step;\n",
    "            sum += 4.0 / (1.0 + x * x);\n",
    "        }\n",
    "    }\n",
    "\n",
    "    if (rank == 0) {\n",
    "        double procsum;\n",
    "        pi = sum * step;\n",
    "\n",
    "        for (int proc = 1; proc < nthreads; proc++) {\n",
    "            err = MPI_Recv(&procsum, 1, MPI_DOUBLE, proc, 1, MPI_COMM_WORLD, &status);\n",
    "            if (err != MPI_SUCCESS) {\n",
    "                char errString[MPI_MAX_ERROR_STRING];\n",
    "                int len;\n",
    "                MPI_Error_string(err, errString, &len);\n",
    "                printf(\"MPI_Recv error from process %d: %s\\n\", proc, errString);\n",
    "            } else {\n",
    "                pi += procsum * step;\n",
    "            }\n",
    "        }\n",
    "\n",
    "        printf(\"Pi = %f\\n\", pi);\n",
    "\n",
    "        // 🔴 Test forced error: send to invalid rank\n",
    "        double dummy = 0.0;\n",
    "        int badRank = size + 10;  // invalid rank\n",
    "        err = MPI_Send(&dummy, 1, MPI_DOUBLE, badRank, 1, MPI_COMM_WORLD);\n",
    "        if (err != MPI_SUCCESS) {\n",
    "            char errString[MPI_MAX_ERROR_STRING];\n",
    "            int len;\n",
    "            MPI_Error_string(err, errString, &len);\n",
    "            printf(\"Forced MPI_Send error: %s\\n\", errString);\n",
    "        }\n",
    "\n",
    "    } else {\n",
    "        // Send partial sum to process 0\n",
    "        err = MPI_Send(&sum, 1, MPI_DOUBLE, 0, 1, MPI_COMM_WORLD);\n",
    "        if (err != MPI_SUCCESS) {\n",
    "            char errString[MPI_MAX_ERROR_STRING];\n",
    "            int len;\n",
    "            MPI_Error_string(err, errString, &len);\n",
    "            printf(\"Process %d: MPI_Send error: %s\\n\", rank, errString);\n",
    "        }\n",
    "    }\n",
    "\n",
    "    MPI_Finalize();\n",
    "    return 0;\n",
    "}\n",
    "```"
   ]
  },
  {
   "cell_type": "markdown",
   "metadata": {},
   "source": [
    "---\n",
    "<a name=Rumor-Example-Continued></a>\n",
    "# 3. Rumor Example Continued\n",
    "\n",
    "Use the rest of the class to continue working on the rumor example. If you get a solution working, discuss your solution with your group. "
   ]
  },
  {
   "cell_type": "markdown",
   "metadata": {},
   "source": [
    "---\n",
    "<a name=Quiz></a>\n",
    "# 4. Use the remainder of class to review for the MPI quiz.\n",
    "\n",
    "Next class we will have an MPI quiz to check understanding of the MPI content we have covered so far. Be sure to review the general MPI workflow and ask questions if you are feeling confused about any of the MPI content so far. "
   ]
  },
  {
   "cell_type": "markdown",
   "metadata": {},
   "source": [
    "\n",
    "-----\n",
    "### Congratulations, we're done!\n",
    "\n",
    "Have one of the instructors check your notebook and sign you out before leaving class. Turn in your assignment using D2L."
   ]
  },
  {
   "cell_type": "markdown",
   "metadata": {},
   "source": [
    "Written by Dr. Dirk Colbry, Michigan State University (Updated by Dr. Nathan Haut in Spring 2025)\n",
    "<a rel=\"license\" href=\"http://creativecommons.org/licenses/by-nc/4.0/\"><img alt=\"Creative Commons License\" style=\"border-width:0\" src=\"https://i.creativecommons.org/l/by-nc/4.0/88x31.png\" /></a><br />This work is licensed under a <a rel=\"license\" href=\"http://creativecommons.org/licenses/by-nc/4.0/\">Creative Commons Attribution-NonCommercial 4.0 International License</a>."
   ]
  },
  {
   "cell_type": "markdown",
   "metadata": {},
   "source": [
    "----"
   ]
  }
 ],
 "metadata": {
  "kernelspec": {
   "display_name": "Python 3 (ipykernel)",
   "language": "python",
   "name": "python3"
  },
  "language_info": {
   "codemirror_mode": {
    "name": "ipython",
    "version": 3
   },
   "file_extension": ".py",
   "mimetype": "text/x-python",
   "name": "python",
   "nbconvert_exporter": "python",
   "pygments_lexer": "ipython3",
   "version": "3.12.7"
  }
 },
 "nbformat": 4,
 "nbformat_minor": 4
}
