{
 "cells": [
  {
   "cell_type": "markdown",
   "metadata": {},
   "source": [
    "In order to successfully complete this assignment you must do the required reading, watch the provided videos and complete all instructions.  The embedded survey form must be entirely filled out and submitted on or before **11:59pm**.  Students must come to class the next day prepared to discuss the material covered in this assignment. "
   ]
  },
  {
   "cell_type": "markdown",
   "metadata": {},
   "source": [
    "---"
   ]
  },
  {
   "cell_type": "markdown",
   "metadata": {},
   "source": [
    "# PCA 30: MPI Errors"
   ]
  },
  {
   "cell_type": "markdown",
   "metadata": {},
   "source": [
    "### Goals for today's pre-class assignment \n",
    "\n",
    "</p>\n",
    "\n",
    "1. At its core, MPI is Simple\n",
    "2. Error Handling In MPI\n",
    "3. More on MPI Tags\n",
    "4. Assignment wrap-up\n"
   ]
  },
  {
   "cell_type": "markdown",
   "metadata": {},
   "source": [
    "# 1. At its core, MPI is Simple\n",
    "Remember that most MPI programs can be written using just these six functions, only two of which are non-trivial:\n",
    "* MPI_INIT\n",
    "* MPI_COMM_SIZE\n",
    "* MPI_COMM_RANK\n",
    "* MPI_SEND\n",
    "* MPI_RECV\n",
    "* MPI_FINALIZE\n",
    "\n",
    "If you can remember these functions the rest is easy."
   ]
  },
  {
   "cell_type": "markdown",
   "metadata": {},
   "source": [
    "# 2. Error Handling In MPI\n",
    "\n",
    "You should also do error handling in MPI some things to note are:\n",
    "\n",
    "* By default, an error causes all processes to abort. (sometimes the message is not that helpful).\n",
    "* The user can cause routines to return (with an error code) instead.\n",
    "\n",
    "Parallel programs are hard to debug. It is always a good habit to activly manage errors.  \n"
   ]
  },
  {
   "cell_type": "markdown",
   "metadata": {},
   "source": [
    "&#9989; **<font color=red>DO THIS:</font>** Find a reference that explains how to handle errors in MPI.  "
   ]
  },
  {
   "cell_type": "markdown",
   "metadata": {},
   "source": [
    "&#9989; **<font color=red>QUESTION:</font>** What is the reference link you found on handling errors in MPI?"
   ]
  },
  {
   "cell_type": "markdown",
   "metadata": {},
   "source": [
    "https://www.mpi-forum.org/docs/mpi-1.1/mpi-11-html/node148.html"
   ]
  },
  {
   "cell_type": "markdown",
   "metadata": {},
   "source": [
    "&#9989; **<font color=red>DO THIS:</font>** Review the following code we got to work on the HPCC last week.  Add code to include errors handling. "
   ]
  },
  {
   "cell_type": "markdown",
   "metadata": {},
   "source": [
    "```c++\n",
    "    #include <stdio.h>\n",
    "    #include <stdlib.h>\n",
    "    #include <mpi.h>\n",
    "    #include <unistd.h>\n",
    "    \n",
    "    #define max_nodes 264\n",
    "    #define str_length 50\n",
    "    \n",
    "    void checkMPIError(int errCode, const char* msg) {\n",
    "        if (errCode != MPI_SUCCESS) {\n",
    "            char errStr[MPI_MAX_ERROR_STRING];\n",
    "            int errLen;\n",
    "            MPI_Error_string(errCode, errStr, &errLen);\n",
    "            fprintf(stderr, \"MPI ERROR in %s: %s\\n\", msg, errStr);\n",
    "            MPI_Abort(MPI_COMM_WORLD, errCode);\n",
    "        }\n",
    "    }\n",
    "    \n",
    "    int main(int argc, char **argv) {\n",
    "        int proc, rank, size, namelen;\n",
    "        int ids[max_nodes];\n",
    "        char hostname[max_nodes][str_length];  // Corrected array dimension\n",
    "        char p_name[str_length];\n",
    "    \n",
    "        MPI_Status status;\n",
    "    \n",
    "        int err = MPI_Init(&argc, &argv);\n",
    "        checkMPIError(err, \"MPI_Init\");\n",
    "    \n",
    "        // Set error handler to return errors instead of aborting\n",
    "        MPI_Errhandler_set(MPI_COMM_WORLD, MPI_ERRORS_RETURN);\n",
    "    \n",
    "        err = MPI_Comm_rank(MPI_COMM_WORLD, &rank);\n",
    "        checkMPIError(err, \"MPI_Comm_rank\");\n",
    "    \n",
    "        err = MPI_Comm_size(MPI_COMM_WORLD, &size);\n",
    "        checkMPIError(err, \"MPI_Comm_size\");\n",
    "    \n",
    "        err = MPI_Get_processor_name(p_name, &namelen);\n",
    "        checkMPIError(err, \"MPI_Get_processor_name\");\n",
    "    \n",
    "        if (rank == 0) {\n",
    "            printf(\"Hello From: %s I am the receiving processor %d of %d\\n\", p_name, rank + 1, size);\n",
    "            for (proc = 1; proc < size; proc++) {\n",
    "                err = MPI_Recv(hostname[proc], str_length, MPI_CHAR, proc, 1, MPI_COMM_WORLD, &status);\n",
    "                checkMPIError(err, \"MPI_Recv (hostname)\");\n",
    "    \n",
    "                err = MPI_Recv(&ids[proc], 1, MPI_INT, proc, 2, MPI_COMM_WORLD, &status);\n",
    "                checkMPIError(err, \"MPI_Recv (id)\");\n",
    "    \n",
    "                printf(\"Hello From: %-20s I am processor %d of %d\\n\", hostname[proc], ids[proc] + 1, size);\n",
    "            }\n",
    "        } else {\n",
    "            srand(rank);\n",
    "            int t = rand() % 10 + 1;\n",
    "            sleep(t);\n",
    "    \n",
    "            err = MPI_Send(p_name, str_length, MPI_CHAR, 0, 1, MPI_COMM_WORLD);\n",
    "            checkMPIError(err, \"MPI_Send (hostname)\");\n",
    "    \n",
    "            err = MPI_Send(&rank, 1, MPI_INT, 0, 2, MPI_COMM_WORLD);\n",
    "            checkMPIError(err, \"MPI_Send (rank)\");\n",
    "        }\n",
    "    \n",
    "        err = MPI_Finalize();\n",
    "        checkMPIError(err, \"MPI_Finalize\");\n",
    "    \n",
    "        return 0;\n",
    "}\n",
    "\n",
    "```"
   ]
  },
  {
   "cell_type": "markdown",
   "metadata": {},
   "source": [
    "&#9989; **<font color=red>QUESTION:</font>** Where you able to figure out how to get the error handling to work?"
   ]
  },
  {
   "cell_type": "markdown",
   "metadata": {},
   "source": [
    "error handling in MPI works only if you explicitly set the error handler to return errors instead of aborting the program, which is not the default behavior."
   ]
  },
  {
   "cell_type": "markdown",
   "metadata": {},
   "source": [
    "&#9989; **<font color=red>QUESTION:</font>** If so, what was most challenging/Interesting? If not, where did you get stuck?"
   ]
  },
  {
   "cell_type": "markdown",
   "metadata": {},
   "source": [
    "What I found most interesting (and a bit tricky) when getting MPI error handling to work was understanding MPI's default behavior and how deceptively easy it is to assume errors will just return codes like in regular C — when in fact, they often don't unless you explicitly change the error handling mode."
   ]
  },
  {
   "cell_type": "markdown",
   "metadata": {},
   "source": [
    "# 3. More on MPI Tags\n",
    "* Messages are sent with an accompanying user-defined integer tag, to assist the receiving process in identifying the message.\n",
    "* Messages can be screened at the receiving end by specifying a specific tag, or not screened by specifying MPI_ANY_TAG as the tag in a receive.\n",
    "* Some non-MPI message-passing systems have called tags “message types”. MPI calls them tags to avoid confusion with datatypes. \n",
    "\n",
    "&#9989; **<font color=red>QUESTION:</font>** How many different tags are used in the above example?"
   ]
  },
  {
   "cell_type": "markdown",
   "metadata": {},
   "source": [
    "2"
   ]
  },
  {
   "cell_type": "markdown",
   "metadata": {},
   "source": [
    "&#9989; **<font color=red>QUESTION:</font>** How are the tags being used?"
   ]
  },
  {
   "cell_type": "markdown",
   "metadata": {},
   "source": [
    "One for sending and receivng the hostname and one for sending and receiving the rank"
   ]
  },
  {
   "cell_type": "markdown",
   "metadata": {},
   "source": [
    "----\n",
    "\n",
    "<a name=\"Assignment_wrap-up\"></a>\n",
    "# Assignment wrap-up\n",
    "\n",
    "Please fill out the form that appears when you run the code below.  **You must completely fill this out in order to receive credits for the assignment!**\n",
    "\n",
    "[Direct Link to Survey Form](https://cmse.msu.edu/cmse401-pc-survey)\n"
   ]
  },
  {
   "cell_type": "markdown",
   "metadata": {},
   "source": [
    "&#9989; **<font color=red>Assignment-Specific QUESTION:</font>**  No assignment specific question. "
   ]
  },
  {
   "cell_type": "markdown",
   "metadata": {},
   "source": [
    "Put your answer to the above question here"
   ]
  },
  {
   "cell_type": "markdown",
   "metadata": {},
   "source": [
    "&#9989; **<font color=red>QUESTION:</font>**  Summarize what you did in this assignment."
   ]
  },
  {
   "cell_type": "markdown",
   "metadata": {},
   "source": [
    "Learned about MPI error handling"
   ]
  },
  {
   "cell_type": "markdown",
   "metadata": {},
   "source": [
    "&#9989; **<font color=red>QUESTION:</font>**  What questions do you have, if any, about any of the topics discussed in this assignment after working through the jupyter notebook?"
   ]
  },
  {
   "cell_type": "markdown",
   "metadata": {},
   "source": [
    "Can you go through an example of error handling just for syntax purposes"
   ]
  },
  {
   "cell_type": "markdown",
   "metadata": {},
   "source": [
    "&#9989; **<font color=red>QUESTION:</font>**  How well do you feel this assignment helped you to achieve a better understanding of the above mentioned topic(s)?"
   ]
  },
  {
   "cell_type": "markdown",
   "metadata": {},
   "source": [
    "Well"
   ]
  },
  {
   "cell_type": "markdown",
   "metadata": {},
   "source": [
    "&#9989; **<font color=red>QUESTION:</font>** What was the **most** challenging part of this assignment for you? "
   ]
  },
  {
   "cell_type": "markdown",
   "metadata": {},
   "source": [
    "Changing the code to support error handling"
   ]
  },
  {
   "cell_type": "markdown",
   "metadata": {},
   "source": [
    "&#9989; **<font color=red>QUESTION:</font>** What was the **least** challenging part of this assignment for you? "
   ]
  },
  {
   "cell_type": "markdown",
   "metadata": {},
   "source": [
    "Find a source for learning error handling"
   ]
  },
  {
   "cell_type": "markdown",
   "metadata": {},
   "source": [
    "&#9989; **<font color=red>QUESTION:</font>**  What kind of additional questions or support, if any, do you feel you need to have a better understanding of the content in this assignment?"
   ]
  },
  {
   "cell_type": "markdown",
   "metadata": {},
   "source": [
    "None"
   ]
  },
  {
   "cell_type": "markdown",
   "metadata": {},
   "source": [
    "&#9989; **<font color=red>QUESTION:</font>**  Do you have any further questions or comments about this material, or anything else that's going on in class?"
   ]
  },
  {
   "cell_type": "markdown",
   "metadata": {},
   "source": [
    "None"
   ]
  },
  {
   "cell_type": "markdown",
   "metadata": {},
   "source": [
    "&#9989; **<font color=red>QUESTION:</font>** Approximately how long did this pre-class assignment take?"
   ]
  },
  {
   "cell_type": "markdown",
   "metadata": {},
   "source": [
    "30 minutes"
   ]
  },
  {
   "cell_type": "code",
   "execution_count": null,
   "metadata": {},
   "outputs": [],
   "source": [
    "from IPython.display import HTML\n",
    "HTML(\n",
    "\"\"\"\n",
    "<iframe \n",
    "\tsrc=\"https://cmse.msu.edu/cmse401-pc-survey\" \n",
    "\twidth=\"100%\" \n",
    "\theight=\"500px\" \n",
    "\tframeborder=\"0\" \n",
    "\tmarginheight=\"0\" \n",
    "\tmarginwidth=\"0\">\n",
    "\tLoading...\n",
    "</iframe>\n",
    "\"\"\"\n",
    ")"
   ]
  },
  {
   "cell_type": "markdown",
   "metadata": {},
   "source": [
    "\n",
    "---------\n",
    "### Congratulations, we're done!\n",
    "\n",
    "To get credit for this assignment you must fill out and submit the above survey from on or before the assignment due date."
   ]
  },
  {
   "cell_type": "markdown",
   "metadata": {},
   "source": [
    "Written by Dr. Dirk Colbry, Michigan State University\n",
    "<a rel=\"license\" href=\"http://creativecommons.org/licenses/by-nc/4.0/\"><img alt=\"Creative Commons License\" style=\"border-width:0\" src=\"https://i.creativecommons.org/l/by-nc/4.0/88x31.png\" /></a><br />This work is licensed under a <a rel=\"license\" href=\"http://creativecommons.org/licenses/by-nc/4.0/\">Creative Commons Attribution-NonCommercial 4.0 International License</a>."
   ]
  },
  {
   "cell_type": "markdown",
   "metadata": {},
   "source": [
    "----"
   ]
  },
  {
   "cell_type": "markdown",
   "metadata": {},
   "source": [
    "----"
   ]
  }
 ],
 "metadata": {
  "anaconda-cloud": {},
  "kernelspec": {
   "display_name": "Python 3 (ipykernel)",
   "language": "python",
   "name": "python3"
  },
  "language_info": {
   "codemirror_mode": {
    "name": "ipython",
    "version": 3
   },
   "file_extension": ".py",
   "mimetype": "text/x-python",
   "name": "python",
   "nbconvert_exporter": "python",
   "pygments_lexer": "ipython3",
   "version": "3.12.7"
  }
 },
 "nbformat": 4,
 "nbformat_minor": 4
}
